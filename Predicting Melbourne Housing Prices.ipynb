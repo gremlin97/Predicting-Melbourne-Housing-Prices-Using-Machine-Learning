{
  "nbformat": 4,
  "cells": [
    {
      "execution_count": null,
      "cell_type": "code",
      "outputs": [],
      "source": [
        "import numpy as np # linear algebra\n",
        "import pandas as pd # data processing, CSV file I/O (e.g. pd.read_csv)\n",
        "from subprocess import check_output\n",
        "print(check_output([\"ls\", \"../input\"]).decode(\"utf8\"))"
      ],
      "metadata": {
        "_uuid": "ec7e07820c81e8671d3e8b15d382784b50d056e2",
        "_cell_guid": "b569619b-97a2-4ea8-8718-0b745cc357f4"
      }
    },
    {
      "execution_count": null,
      "cell_type": "code",
      "outputs": [],
      "source": [
        "data=pd.read_csv('../input/melb_data.csv')#Reading CSV file and saving it as a panda dataframe"
      ],
      "metadata": {
        "_uuid": "cc3af206f8808b276ebde4bd5ed25700e95973d9",
        "collapsed": true,
        "_cell_guid": "1c95ac13-2b93-45fa-882d-9b710b29d642"
      }
    },
    {
      "execution_count": null,
      "cell_type": "code",
      "outputs": [],
      "source": [
        "    print(data.describe())#Data Description"
      ],
      "metadata": {
        "_uuid": "225e4ae7a704c5a2d3ff6bb02e2ff29bd3ad80ca",
        "_cell_guid": "f625f11d-924e-4644-aef1-973ead340df9"
      }
    },
    {
      "execution_count": null,
      "cell_type": "code",
      "outputs": [],
      "source": [
        "    data.columns #Displaying the cumn names of the dataframe "
      ],
      "metadata": {
        "_uuid": "916fce98d0580b49b63d627274cc04287bfb8203",
        "_cell_guid": "9fc84f21-71dc-4c3a-be9d-53127a083209"
      }
    },
    {
      "execution_count": null,
      "cell_type": "code",
      "outputs": [],
      "source": [
        "print(data.columns)"
      ],
      "metadata": {
        "_uuid": "3512c929ee6d2223211963ab6418b675bf78074b",
        "_cell_guid": "95fa9240-f433-4cab-a9a0-a48f7a1c4a97"
      }
    },
    {
      "execution_count": null,
      "cell_type": "code",
      "outputs": [],
      "source": [
        "p_data=data.Address\n",
        "p_data.head() #head gives first 5 rows of the dataframe\n",
        "p_data.tail() #tail gives last 5 rows of the dataframe"
      ],
      "metadata": {
        "_uuid": "ca8a4cc0061fe1356e55f65c235f7137bb2e715d",
        "_cell_guid": "963d3b21-38fb-498d-adbc-a1ed7205c0a3"
      }
    },
    {
      "execution_count": null,
      "cell_type": "code",
      "outputs": [],
      "source": [
        "data.Price.head()"
      ],
      "metadata": {
        "_uuid": "fce31a3acc0303705446de99374b09de43387e33",
        "_cell_guid": "bec32f0b-37b8-4420-b93b-6e866a85f47c"
      }
    },
    {
      "execution_count": null,
      "cell_type": "code",
      "outputs": [],
      "source": [
        "col=['Landsize', 'BuildingArea']\n",
        "t=data[col]\n",
        "t.describe()"
      ],
      "metadata": {
        "_uuid": "1eea63ce0e9151f6c5ba38ec4d918fa69fb7dfce",
        "_cell_guid": "f72aafb3-5afa-4618-8c4b-9cefc42e567d"
      }
    },
    {
      "execution_count": null,
      "cell_type": "code",
      "outputs": [],
      "source": [
        "data=data.dropna() #Removing NULL Values\n",
        "#We are dividing the data into predictors(INDEPENDENT) and prediction(DEPENDENT) arrays\n",
        "predict=['Price']\n",
        "y=data[predict]\n",
        "predictors=['Rooms', 'Bathroom', 'Landsize', 'BuildingArea', 'YearBuilt', 'Lattitude', 'Longtitude']\n",
        "X=data[predictors]\n"
      ],
      "metadata": {
        "_uuid": "4e6bd4408eafc35823d8afcfacb32904bb0d1134",
        "collapsed": true,
        "_cell_guid": "d29c460f-bcec-48c4-b32a-87e0c682c72d"
      }
    },
    {
      "execution_count": null,
      "cell_type": "code",
      "outputs": [],
      "source": [
        "#using decision tree model\n",
        "from sklearn.tree import DecisionTreeRegressor as dt\n",
        "model = dt()\n",
        "model.fit(X, y)\n",
        "    "
      ],
      "metadata": {
        "_uuid": "6e19f4b12a0c9ac81751bedc0c41a79ce0168ba2",
        "_cell_guid": "a82236b2-2f31-454a-acb3-4e25d1d98eaf"
      }
    },
    {
      "execution_count": null,
      "cell_type": "code",
      "outputs": [],
      "source": [
        "model.predict(X.head())#predicting our independent variable for first 5 roes"
      ],
      "metadata": {
        "_uuid": "251cac5ec70e1ac1f18dcbe4a5a6aff12e9cf203",
        "_cell_guid": "fc0f255c-7005-4d56-87ed-6c516cd18e05"
      }
    },
    {
      "execution_count": null,
      "cell_type": "code",
      "outputs": [],
      "source": [
        "model.predict(X.tail())"
      ],
      "metadata": {
        "_uuid": "1371747f8865887c943a057c65989e71615accb0",
        "_cell_guid": "9ef969e2-0f2a-4e45-9c1b-0f9a4c699437"
      }
    },
    {
      "execution_count": null,
      "cell_type": "code",
      "outputs": [],
      "source": [
        "model.predict([[2,1.0,156.0,79.0,1900.0,-37.8079,144.9934]]) #prediction for custom input"
      ],
      "metadata": {
        "_uuid": "aba5083d9c9aae67ff46ea59cd3c26f2dd9756dc",
        "_cell_guid": "f5965052-8137-43d5-ac5e-3786adb39b57"
      }
    },
    {
      "execution_count": null,
      "cell_type": "code",
      "outputs": [],
      "source": [
        "#MODEL VALIDATION using mean absolute error\n",
        "from sklearn.metrics import mean_absolute_error\n",
        "predict=model.predict(X)\n",
        "mean_absolute_error(y,predict)"
      ],
      "metadata": {
        "_uuid": "e089e8a8ccf4855539236f6d3942a858a212691c",
        "_cell_guid": "e214f87b-ae12-4ee5-b964-084d7738041b"
      }
    },
    {
      "execution_count": null,
      "cell_type": "code",
      "outputs": [],
      "source": [
        "#MODEL VALIDATION by dividing data into training and tesing dataset\n",
        "from sklearn.model_selection import train_test_split\n",
        "from sklearn.tree import DecisionTreeRegressor as dt\n",
        "\n",
        "# split data into training and validation data, for both predictors and target\n",
        "# The split is based on a random number generator. Supplying a numeric value to\n",
        "# the random_state argument guarantees we get the same split every time we\n",
        "# run this script.\n",
        "train_X, val_X, train_y, val_y = train_test_split(X, y,random_state = 0)\n",
        "# Define model\n",
        "melbourne_model =dt()\n",
        "# Fit model\n",
        "melbourne_model.fit(train_X, train_y)\n",
        "\n",
        "# get predicted prices on validation data\n",
        "val_predictions = melbourne_model.predict(val_X)\n",
        "print(mean_absolute_error(val_y, val_predictions))"
      ],
      "metadata": {
        "_uuid": "70ad2485bd8b36762c9adcdb71721b1400bea71f",
        "_cell_guid": "da18099a-2c80-421b-8e89-7faf614d5f39"
      }
    },
    {
      "execution_count": null,
      "cell_type": "code",
      "outputs": [],
      "source": [
        "#OPtimium fitting using max_leaf_nodes as a meetric for finding out optimum number of leaves to use\n",
        "from sklearn.metrics import mean_absolute_error\n",
        "from sklearn.tree import DecisionTreeRegressor\n",
        "\n",
        "def get_mae(max_leaf_nodes, predictors_train, predictors_val, targ_train, targ_val):\n",
        "    model = DecisionTreeRegressor(max_leaf_nodes=max_leaf_nodes, random_state=0)\n",
        "    model.fit(predictors_train, targ_train)\n",
        "    preds_val = model.predict(predictors_val)\n",
        "    mae = mean_absolute_error(targ_val, preds_val)\n",
        "    return(mae)\n",
        "# compare MAE with differing values of max_leaf_nodes\n",
        "for max_leaf_nodes in [5, 50, 500, 5000]:\n",
        "    my_mae = get_mae(max_leaf_nodes, train_X, val_X, train_y, val_y)\n",
        "    print(\"Max leaf nodes: %d  \\t\\t Mean Absolute Error:  %d\" %(max_leaf_nodes, my_mae))"
      ],
      "metadata": {
        "_uuid": "06cd9a8fe696a0b065c4688dc6f65c1f206a067d",
        "_cell_guid": "162de9f6-69c0-488c-be1a-a9d9ef510565"
      }
    },
    {
      "execution_count": null,
      "cell_type": "code",
      "outputs": [],
      "source": [
        "#Using Random forrests\n",
        "from sklearn.ensemble import RandomForestRegressor\n",
        "from sklearn.metrics import mean_absolute_error\n",
        "from sklearn.model_selection import train_test_split\n",
        "train_X, val_X, train_y, val_y = train_test_split(X, y,random_state = 0)\n",
        "forest_model = RandomForestRegressor()\n",
        "forest_model.fit(train_X, train_y.values.ravel())\n",
        "#The function expects train_y to be a 1D array,ravel() converts the 2d array to 1d array \n",
        "melb_preds = forest_model.predict(val_X)\n",
        "print(mean_absolute_error(val_y, melb_preds))\n"
      ],
      "metadata": {
        "_uuid": "0db21a97505fff0d388589a5661685b7ebb70407",
        "_cell_guid": "87da4e3a-4743-4d66-8450-562c57217246"
      }
    }
  ],
  "nbformat_minor": 1,
  "metadata": {
    "language_info": {
      "codemirror_mode": {
        "version": 3,
        "name": "ipython"
      },
      "file_extension": ".py",
      "name": "python",
      "nbconvert_exporter": "python",
      "version": "3.6.4",
      "mimetype": "text/x-python",
      "pygments_lexer": "ipython3"
    },
    "kernelspec": {
      "display_name": "Python 3",
      "language": "python",
      "name": "python3"
    }
  }
}